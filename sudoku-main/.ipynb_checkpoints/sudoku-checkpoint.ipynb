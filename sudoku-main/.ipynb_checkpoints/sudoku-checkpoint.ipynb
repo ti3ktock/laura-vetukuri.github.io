{
 "cells": [
  {
   "cell_type": "code",
   "execution_count": null,
   "id": "initial_id",
   "metadata": {
    "collapsed": true,
    "is_executing": true,
    "ExecuteTime": {
     "start_time": "2024-02-06T19:46:26.537374Z"
    }
   },
   "outputs": [],
   "source": [
    "import numpy as np  # import the NumPy library as \"np\" for numerical operations \n",
    "                                   "
   ]
  },
  {
   "cell_type": "code",
   "outputs": [],
   "source": [
    "import numpy as np  # import the NumPy library as \"np\" for numerical operations\n",
    "\n",
    "class SudokuBoard:\n",
    "    def __init__(self):  # constructor method for SudokuBoard class with \"self\" parameter\n",
    "        self.board = np.zeros((9, 9), dtype=int)#initializes a 9x9 numpy array (\"board\") with 0. 0 = empty cells\n",
    "\n",
    "    #prints the sudoku board so that it is easier to see and understand. An illustration of the sudoku board\n",
    "    def print_board(self):\n",
    "        for i in range(9): #loop that iterates through the rows of the sudoku board\n",
    "            if i % 3 == 0 and i != 0:  # checks if it is a multiple of 3 and not equal to 0\n",
    "                print(\"-\" * 21)  # prints 21 \"-\" every 3 rows to make 3x3 blocks\n",
    "            for j in range(9):\n",
    "                if j % 3 == 0 and j != 0:  # checks if it is a multiple of 3 and not equal to 0\n",
    "                    print(\"|\", end=\" \")  # prints \"|\" every 3 column to make 3x3 blocks\n",
    "\n",
    "                num = self.board[i][j]  # is used to get the values of i and j s position\n",
    "                if num == 0: #checks if it is an empty cell , that is if it is a 0\n",
    "                    print(\"*\", end=\" \")  # prints a \"*\" for empty cells (change from 0 to *)\n",
    "                else:\n",
    "                    print(num, end=\" \") # prints the number for non-empty cells\n",
    "            print()  # new line after every row\n",
    "\n",
    "    #this method checks if the move is valid or not\n",
    "    def check_valid(self, row, col, num):\n",
    "        for x in range(9):  #checks the entire row and column for num\n",
    "            if self.board[row, x] == num or self.board[x, col] == num:  #checks if num already exists in the row or column else it will return false- not vailid to place num (9x9 block)\n",
    "                return False  \n",
    "            startRow = row - row % 3 # starting row of 3x3 block\n",
    "            startCol = col - col % 3 # starting column of 3x3 block\n",
    "            for i in range(3):\n",
    "                for j in range(3):\n",
    "                    if self.board[i+ startRow, j + startCol] == num:\n",
    "                        return False # check if num already exists in the 3x3 block, return false(not valid to place num) if it is found\n",
    "            return True #if num is not found in row , column or3x3, it returns True - it is ok to place the number\n",
    "\n",
    "    # a method that solves the sudoku\n",
    "    def solve_sudoku(self):\n",
    "        for row in range(9):\n",
    "            for col in range(9):\n",
    "                if self.board[row][col] == 0: #check if the value is 0\n",
    "                    for num in range(1,10): # try numbers from 1-9\n",
    "                        if self.check_valid(row, col, num):\n",
    "                            self.board[row][col] = num\n",
    "                            if self.solve_sudoku():\n",
    "                                return True\n",
    "                            self.board[row][col] = 0\n",
    "                    return False\n",
    "        return True\n",
    "if __name__ == \"__main__\":\n",
    "    sudoku = SudokuBoard() # creates an instance of the SudokuBoard class\n",
    "    intial_board = [[5,3,0,0,7,0,0,0,0],        #example sudoku as a list of lists\n",
    "                    [6,0,0,1,9,5,0,0,0],\n",
    "                    [0,9,8,0,0,0,0,6,0],\n",
    "                    [8,0,0,0,6,0,0,0,3],\n",
    "                    [4,0,0,8,0,3,0,0,1],\n",
    "                    [7,0,0,0,2,0,0,0,6],\n",
    "                    [0,6,0,0,0,0,2,8,0],\n",
    "                    [0,0,0,4,1,9,0,0,5],\n",
    "                    [0,0,0,0,8,0,0,7,9]\n",
    "                    ]\n",
    "    sudoku.board = np.array(intial_board)  #sets the initial Sudoku\n",
    "\n",
    "    print(\"Sudoku: \")\n",
    "    sudoku.print_board()  # prints the sudoku board\n",
    "\n",
    "    if sudoku.solve_sudoku():\n",
    "        print(\"\\n Solved sudoku: \")\n",
    "        sudoku.print_board() # tries to solve the sudoku and if it is solved it will print the solution\n",
    "    else:\n",
    "        print(\"\\n no solution\")# if there is no solution to the sudoku it prints the string \"no solution\"\n",
    "\n",
    "\n"
   ],
   "metadata": {
    "collapsed": false,
    "is_executing": true
   },
   "id": "a8428f68f56f5873"
  },
  {
   "cell_type": "code",
   "outputs": [],
   "source": [],
   "metadata": {
    "collapsed": false
   },
   "id": "3cff5354b6f91b51"
  }
 ],
 "metadata": {
  "kernelspec": {
   "display_name": "Python 3",
   "language": "python",
   "name": "python3"
  },
  "language_info": {
   "codemirror_mode": {
    "name": "ipython",
    "version": 2
   },
   "file_extension": ".py",
   "mimetype": "text/x-python",
   "name": "python",
   "nbconvert_exporter": "python",
   "pygments_lexer": "ipython2",
   "version": "2.7.6"
  }
 },
 "nbformat": 4,
 "nbformat_minor": 5
}
